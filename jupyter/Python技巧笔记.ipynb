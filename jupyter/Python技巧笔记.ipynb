{
 "cells": [
  {
   "cell_type": "markdown",
   "id": "c03d0a49a5b6f31a",
   "metadata": {
    "collapsed": false
   },
   "source": [
    "<span style=\"font-weight: bold; color: #12C415; font-size: 27;\">三目运算符</span>\n",
    "例如，以下代码使用三目运算符判断一个数是否大于等于或0："
   ]
  },
  {
   "cell_type": "code",
   "execution_count": 8,
   "id": "initial_id",
   "metadata": {
    "ExecuteTime": {
     "end_time": "2023-12-29T06:14:44.312505200Z",
     "start_time": "2023-12-29T06:14:44.306545500Z"
    },
    "collapsed": false
   },
   "outputs": [
    {
     "name": "stdout",
     "output_type": "stream",
     "text": [
      "小于0\n"
     ]
    }
   ],
   "source": [
    "x = -2\n",
    "y = '大于等于或0' if x >= 0 else '小于0'\n",
    "print(y)"
   ]
  },
  {
   "cell_type": "markdown",
   "id": "cc0397f7cdd78ad8",
   "metadata": {
    "collapsed": false
   },
   "source": [
    "<span style=\"font-weight: bold; color: #12C415; font-size: 27;\">斐波那契数列</span>\n",
    "0  1  1  2  3  5  8  13"
   ]
  },
  {
   "cell_type": "code",
   "execution_count": 12,
   "id": "9770353a2a476a55",
   "metadata": {
    "ExecuteTime": {
     "end_time": "2023-12-29T06:18:22.990794100Z",
     "start_time": "2023-12-29T06:18:22.984009300Z"
    },
    "collapsed": false
   },
   "outputs": [
    {
     "name": "stdout",
     "output_type": "stream",
     "text": [
      "[0, 1, 1, 2, 3, 5, 8, 13, 21, 34]\n"
     ]
    }
   ],
   "source": [
    "fib = lambda n: n if n <= 1 else fib(n-1) + fib(n-2)\n",
    "ls = [fib(x) for x in range(10)]\n",
    "print(ls)"
   ]
  },
  {
   "cell_type": "markdown",
   "id": "25c160b107cf3a9a",
   "metadata": {
    "collapsed": false
   },
   "source": [
    "<span style=\"font-weight: bold; color: #12C415; font-size: 27;\">冒泡排序</span>\n",
    "1. [9, 8, 7, 6, 5, 4, 10]\n",
    "2. [8, 7, 6, 5, 4, 9, 10]\n",
    "3. [7, 6, 5, 4, 8, 9, 10]\n",
    "4. [6, 5, 4, 7, 8, 9, 10]\n",
    "5. [5, 4, 6, 7, 8, 9, 10]\n",
    "6. [4, 5, 6, 7, 8, 9, 10]\n",
    "冒泡排序从第一个元素开始依次和它后面的元素进行比较比它大就交换"
   ]
  },
  {
   "cell_type": "code",
   "execution_count": 25,
   "id": "150941fa9fb5aee5",
   "metadata": {
    "ExecuteTime": {
     "end_time": "2023-12-29T06:50:05.064731400Z",
     "start_time": "2023-12-29T06:50:05.054574400Z"
    },
    "collapsed": false
   },
   "outputs": [
    {
     "name": "stdout",
     "output_type": "stream",
     "text": [
      "[6, 0, 10, 9, 0, 17, 7]\n",
      "---------------------------\n",
      "[9, 8, 7, 6, 5, 4, 10]\n",
      "[8, 7, 6, 5, 4, 9, 10]\n",
      "[7, 6, 5, 4, 8, 9, 10]\n",
      "[6, 5, 4, 7, 8, 9, 10]\n",
      "[5, 4, 6, 7, 8, 9, 10]\n",
      "[4, 5, 6, 7, 8, 9, 10]\n",
      "***************************\n",
      "[0, 6, 9, 0, 10, 7, 17]\n",
      "[0, 6, 0, 9, 7, 10, 17]\n",
      "[0, 0, 6, 7, 9, 10, 17]\n",
      "[0, 0, 6, 7, 9, 10, 17]\n",
      "[0, 0, 6, 7, 9, 10, 17]\n",
      "[0, 0, 6, 7, 9, 10, 17]\n"
     ]
    }
   ],
   "source": [
    "import random as rd\n",
    "randomList = [rd.randint(0, 20) for _ in range(7)]\n",
    "print(randomList)\n",
    "print('-' * 27)\n",
    "def bubbleSort(list):\n",
    "    for i in range(len(list) - 1):\n",
    "        for j in range(len(list) - i - 1):\n",
    "            if list[j] > list[j + 1]:\n",
    "                list[j], list[j + 1] = list[j + 1], list[j]\n",
    "        print(list)\n",
    "bubbleSort([10, 9, 8, 7, 6, 5, 4])\n",
    "print('*'*27)\n",
    "bubbleSort(randomList)"
   ]
  },
  {
   "cell_type": "markdown",
   "source": [],
   "metadata": {
    "collapsed": false
   },
   "id": "e5e6b6dcc56d97f7"
  },
  {
   "cell_type": "code",
   "execution_count": null,
   "id": "ac87b4e933f1a3f",
   "metadata": {
    "collapsed": false
   },
   "outputs": [],
   "source": []
  }
 ],
 "metadata": {
  "kernelspec": {
   "display_name": "Python 3 (ipykernel)",
   "language": "python",
   "name": "python3"
  },
  "language_info": {
   "codemirror_mode": {
    "name": "ipython",
    "version": 3
   },
   "file_extension": ".py",
   "mimetype": "text/x-python",
   "name": "python",
   "nbconvert_exporter": "python",
   "pygments_lexer": "ipython3",
   "version": "3.11.5"
  }
 },
 "nbformat": 4,
 "nbformat_minor": 5
}
