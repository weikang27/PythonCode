{
 "cells": [
  {
   "cell_type": "markdown",
   "source": [
    "<span style=\"font-weight: bold; color: #12C415; font-size: 27;\">三目运算符</span>\n",
    "例如，以下代码使用三目运算符判断一个数是否大于等于或0："
   ],
   "metadata": {
    "collapsed": false
   },
   "id": "c03d0a49a5b6f31a"
  },
  {
   "cell_type": "code",
   "execution_count": 8,
   "outputs": [
    {
     "name": "stdout",
     "output_type": "stream",
     "text": [
      "小于0\n"
     ]
    }
   ],
   "source": [
    "x = -2\n",
    "y = '大于等于或0' if x >= 0 else '小于0'\n",
    "print(y)"
   ],
   "metadata": {
    "collapsed": false,
    "ExecuteTime": {
     "end_time": "2023-12-29T06:14:44.312505200Z",
     "start_time": "2023-12-29T06:14:44.306545500Z"
    }
   },
   "id": "initial_id"
  },
  {
   "cell_type": "markdown",
   "source": [
    "<span style=\"font-weight: bold; color: #12C415; font-size: 27;\">斐波那契数列</span>\n",
    "0  1  1  2  3  5  8  13"
   ],
   "metadata": {
    "collapsed": false
   },
   "id": "cc0397f7cdd78ad8"
  },
  {
   "cell_type": "code",
   "execution_count": 12,
   "outputs": [
    {
     "name": "stdout",
     "output_type": "stream",
     "text": [
      "[0, 1, 1, 2, 3, 5, 8, 13, 21, 34]\n"
     ]
    }
   ],
   "source": [
    "fib = lambda n: n if n <= 1 else fib(n-1) + fib(n-2)\n",
    "ls = [fib(x) for x in range(10)]\n",
    "print(ls)"
   ],
   "metadata": {
    "collapsed": false,
    "ExecuteTime": {
     "end_time": "2023-12-29T06:18:22.990794100Z",
     "start_time": "2023-12-29T06:18:22.984009300Z"
    }
   },
   "id": "9770353a2a476a55"
  },
  {
   "cell_type": "markdown",
   "source": [
    "<span style=\"font-weight: bold; color: #12C415; font-size: 27;\">冒泡排序</span>\n",
    "1. [0, 3, 17, 6, 17, 1, 2]\n",
    "2. [0, 3, 6, 17, 1, 2, 17]\n",
    "3. [0, 3, 6, 1, 2, 17, 17]\n",
    "4. [0, 3, 1, 2, 6, ]\n",
    "冒泡排序从第一个元素开始依次和它后面的元素进行比较比它大就交互"
   ],
   "metadata": {
    "collapsed": false
   },
   "id": "25c160b107cf3a9a"
  },
  {
   "cell_type": "code",
   "execution_count": 18,
   "outputs": [
    {
     "name": "stdout",
     "output_type": "stream",
     "text": [
      "[0, 3, 17, 6, 17, 1, 2]\n"
     ]
    }
   ],
   "source": [
    "import random as rd\n",
    "randomList = [rd.randint(0, 20) for _ in range(7)]\n",
    "print(randomList)"
   ],
   "metadata": {
    "collapsed": false,
    "ExecuteTime": {
     "end_time": "2023-12-29T06:27:14.412142300Z",
     "start_time": "2023-12-29T06:27:14.407616200Z"
    }
   },
   "id": "150941fa9fb5aee5"
  },
  {
   "cell_type": "code",
   "execution_count": 13,
   "outputs": [],
   "source": [],
   "metadata": {
    "collapsed": false,
    "ExecuteTime": {
     "end_time": "2023-12-29T06:27:03.109412600Z",
     "start_time": "2023-12-29T06:27:03.102821100Z"
    }
   },
   "id": "85b9426173e4443c"
  }
 ],
 "metadata": {
  "kernelspec": {
   "display_name": "Python 3",
   "language": "python",
   "name": "python3"
  },
  "language_info": {
   "codemirror_mode": {
    "name": "ipython",
    "version": 2
   },
   "file_extension": ".py",
   "mimetype": "text/x-python",
   "name": "python",
   "nbconvert_exporter": "python",
   "pygments_lexer": "ipython2",
   "version": "2.7.6"
  }
 },
 "nbformat": 4,
 "nbformat_minor": 5
}
